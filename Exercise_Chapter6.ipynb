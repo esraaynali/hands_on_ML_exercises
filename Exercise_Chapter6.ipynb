{
 "cells": [
  {
   "cell_type": "markdown",
   "metadata": {},
   "source": [
    "# 7. Train and fine-tune a Decision Tree for the moons dataset"
   ]
  },
  {
   "cell_type": "code",
   "execution_count": 1,
   "metadata": {},
   "outputs": [],
   "source": [
    "import numpy as np\n",
    "from sklearn.datasets import make_moons\n",
    "from sklearn.model_selection import train_test_split, GridSearchCV, ShuffleSplit\n",
    "from sklearn.tree import DecisionTreeClassifier\n",
    "from sklearn.metrics import accuracy_score\n",
    "from sklearn.base import clone # deep copy of the model in an estimator without actually copying attached data.\n",
    "from scipy.stats import mode"
   ]
  },
  {
   "cell_type": "code",
   "execution_count": 2,
   "metadata": {},
   "outputs": [],
   "source": [
    "# a. Generate a moons dataset using make_moons(n_samples=10000, noise=0.4)\n",
    "X,y = make_moons(n_samples=10000, noise=0.4, random_state=42)\n",
    "\n",
    "# b. Split it into a training set and a test set using train_test_split()\n",
    "X_train, X_test, y_train, y_test = train_test_split(X, y, test_size=0.2,\n",
    "                                                    random_state=42)"
   ]
  },
  {
   "cell_type": "code",
   "execution_count": 3,
   "metadata": {},
   "outputs": [
    {
     "name": "stdout",
     "output_type": "stream",
     "text": [
      "Fitting 3 folds for each of 294 candidates, totalling 882 fits\n"
     ]
    },
    {
     "name": "stderr",
     "output_type": "stream",
     "text": [
      "[Parallel(n_jobs=1)]: Using backend SequentialBackend with 1 concurrent workers.\n",
      "[Parallel(n_jobs=1)]: Done 882 out of 882 | elapsed:    5.9s finished\n"
     ]
    },
    {
     "data": {
      "text/plain": [
       "DecisionTreeClassifier(class_weight=None, criterion='gini', max_depth=2,\n",
       "                       max_features=None, max_leaf_nodes=4,\n",
       "                       min_impurity_decrease=0.0, min_impurity_split=None,\n",
       "                       min_samples_leaf=1, min_samples_split=2,\n",
       "                       min_weight_fraction_leaf=0.0, presort=False,\n",
       "                       random_state=42, splitter='best')"
      ]
     },
     "execution_count": 3,
     "metadata": {},
     "output_type": "execute_result"
    }
   ],
   "source": [
    "tree_clf = DecisionTreeClassifier(random_state=42)\n",
    "\n",
    "# c. Use grid search with cross-validation\n",
    "# Hint: try various values for max_leaf_nodes.\n",
    "grid_params = {\"max_leaf_nodes\": list(range(2, 100)), \"max_depth\" : [2,3,4]}\n",
    "grid_search = GridSearchCV(tree_clf, grid_params, verbose = 1, cv =3)\n",
    "grid_search.fit(X_train, y_train)\n",
    "grid_search.best_estimator_"
   ]
  },
  {
   "cell_type": "code",
   "execution_count": 4,
   "metadata": {},
   "outputs": [
    {
     "data": {
      "text/plain": [
       "0.863"
      ]
     },
     "execution_count": 4,
     "metadata": {},
     "output_type": "execute_result"
    }
   ],
   "source": [
    "# d. Measure your model’s performance on the test set.\n",
    "best_model = grid_search.best_estimator_\n",
    "preds = best_model.predict(X_test)\n",
    "accuracy_score(y_test, preds)"
   ]
  },
  {
   "cell_type": "markdown",
   "metadata": {},
   "source": [
    "# 8. Grow a forest"
   ]
  },
  {
   "cell_type": "code",
   "execution_count": 5,
   "metadata": {},
   "outputs": [],
   "source": [
    "# a. Generate 1,000 subsets of the training set,\n",
    "# each containing 100 instances selected randomly.\n",
    "# Hint: you can use Scikit-Learn’s ShuffleSplit class for this.\n",
    "n_trees = 1000\n",
    "n_instances = 100\n",
    "\n",
    "subs = []\n",
    "split_shuff = ShuffleSplit(n_splits=n_trees,\n",
    "                           test_size=len(X_train) - n_instances,\n",
    "                           random_state=42)\n",
    "\n",
    "for mini_index, mini_index_test in split_shuff.split(X_train):\n",
    "    X_mini_train = X_train[mini_index]\n",
    "    y_mini_train = y_train[mini_index]\n",
    "    subs.append((X_mini_train, y_mini_train))"
   ]
  },
  {
   "cell_type": "code",
   "execution_count": 6,
   "metadata": {},
   "outputs": [
    {
     "data": {
      "text/plain": [
       "0.831607"
      ]
     },
     "execution_count": 6,
     "metadata": {},
     "output_type": "execute_result"
    }
   ],
   "source": [
    "# b. Train one Decision Tree on each subset, using the best hyperparameter values\n",
    "# Evaluate these 1,000 Decision Trees on the test set\n",
    "\n",
    "forest = [clone(best_model) for _ in range(n_trees)]\n",
    "accuracy_scores = []\n",
    "\n",
    "for tree, (X_mini_train, y_mini_train) in zip(forest, subs):\n",
    "    tree.fit(X_mini_train, y_mini_train)\n",
    "    y_pred = tree.predict(X_test)\n",
    "    accuracy_scores.append(accuracy_score(y_test, y_pred))\n",
    "    \n",
    "np.mean(accuracy_scores)"
   ]
  },
  {
   "cell_type": "code",
   "execution_count": 7,
   "metadata": {},
   "outputs": [],
   "source": [
    "# c. For each test set instance, generate the predictions of the 1,000 DTs,\n",
    "y_preds = np.empty([n_trees, len(X_test)], dtype=np.uint8)\n",
    "for tree_idx, tree in enumerate(forest):\n",
    "    y_preds[tree_idx] = tree.predict(X_test)\n",
    "\n",
    "# and keep only the most frequent prediction, with SciPy’s mode() funciton\n",
    "majority_vote_pred, n_votes = mode(y_preds, axis=0)"
   ]
  },
  {
   "cell_type": "code",
   "execution_count": 8,
   "metadata": {},
   "outputs": [
    {
     "data": {
      "text/plain": [
       "0.869"
      ]
     },
     "execution_count": 8,
     "metadata": {},
     "output_type": "execute_result"
    }
   ],
   "source": [
    "# d. Evaluate these predictions on the test set\n",
    "accuracy_score(y_test, majority_vote_pred.reshape([-1]))\n"
   ]
  }
 ],
 "metadata": {
  "kernelspec": {
   "display_name": "Python 3",
   "language": "python",
   "name": "python3"
  },
  "language_info": {
   "codemirror_mode": {
    "name": "ipython",
    "version": 3
   },
   "file_extension": ".py",
   "mimetype": "text/x-python",
   "name": "python",
   "nbconvert_exporter": "python",
   "pygments_lexer": "ipython3",
   "version": "3.7.4"
  }
 },
 "nbformat": 4,
 "nbformat_minor": 2
}
