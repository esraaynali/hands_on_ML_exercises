{
 "cells": [
  {
   "cell_type": "markdown",
   "metadata": {},
   "source": [
    "## 8) Train a LinearSVC on a linearly separable dataset. Then train an SVC and a SGDClassifier on the same dataset. See if you can get them to produce roughly the same model. (iris dataset)"
   ]
  },
  {
   "cell_type": "code",
   "execution_count": 1,
   "metadata": {},
   "outputs": [],
   "source": [
    "import numpy as np\n",
    "import matplotlib.pyplot as plt\n",
    "from sklearn import datasets\n",
    "from sklearn.svm import LinearSVC, SVC\n",
    "from sklearn.metrics import accuracy_score\n",
    "from sklearn.linear_model import SGDClassifier\n",
    "from sklearn.preprocessing import StandardScaler\n",
    "from sklearn.model_selection import RandomizedSearchCV\n",
    "from scipy.stats import reciprocal, uniform"
   ]
  },
  {
   "cell_type": "markdown",
   "metadata": {},
   "source": [
    "### Data Prep"
   ]
  },
  {
   "cell_type": "code",
   "execution_count": 2,
   "metadata": {},
   "outputs": [],
   "source": [
    "iris = datasets.load_iris()\n",
    "X = iris[\"data\"][:, (2,3)] # petal length and petal width\n",
    "y = iris[\"target\"]\n",
    "\n",
    "# Iris Setosa and Iris Versicolor classes are linearly separable.\n",
    "setosa_or_versi = (y == 0) | (y == 1) \n",
    "X = X[setosa_or_versi]\n",
    "y = y[setosa_or_versi]"
   ]
  },
  {
   "cell_type": "code",
   "execution_count": 3,
   "metadata": {},
   "outputs": [],
   "source": [
    "# Scaling\n",
    "scaler = StandardScaler()\n",
    "X_scaled = scaler.fit_transform(X)"
   ]
  },
  {
   "cell_type": "markdown",
   "metadata": {},
   "source": [
    "### Training"
   ]
  },
  {
   "cell_type": "code",
   "execution_count": 4,
   "metadata": {},
   "outputs": [
    {
     "name": "stdout",
     "output_type": "stream",
     "text": [
      "LinearSVC intercept, coef: [0.29588877] [[1.0607458  1.00177835]]\n"
     ]
    }
   ],
   "source": [
    "# Train a LinearSVC\n",
    "linear_svc_clf = LinearSVC(C=1, loss=\"hinge\",random_state=42)\n",
    "linear_svc_clf.fit(X_scaled,y)\n",
    "print(\"LinearSVC intercept, coef:\",linear_svc_clf.intercept_,linear_svc_clf.coef_)"
   ]
  },
  {
   "cell_type": "code",
   "execution_count": 5,
   "metadata": {},
   "outputs": [
    {
     "name": "stdout",
     "output_type": "stream",
     "text": [
      "SVC intercept, coef: [0.32182521] [[1.04342638 0.94747825]]\n"
     ]
    }
   ],
   "source": [
    "# Train a SVC\n",
    "svc_clf = SVC(C=1, kernel=\"linear\", random_state=42)\n",
    "svc_clf.fit(X_scaled, y)\n",
    "print(\"SVC intercept, coef:\",svc_clf.intercept_,svc_clf.coef_)"
   ]
  },
  {
   "cell_type": "code",
   "execution_count": 6,
   "metadata": {},
   "outputs": [
    {
     "name": "stdout",
     "output_type": "stream",
     "text": [
      "SVC intercept, coef: [0.25786715] [[1.22997122 1.01887836]]\n"
     ]
    }
   ],
   "source": [
    "# Train a SGDClassifier\n",
    "# alpha = 1/(m*C)\n",
    "alpha = 1 / len(X_scaled) * 1\n",
    "sgd_clf = SGDClassifier(loss = \"hinge\", alpha = alpha, random_state=42)\n",
    "sgd_clf.fit(X_scaled, y)\n",
    "print(\"SVC intercept, coef:\",sgd_clf.intercept_,sgd_clf.coef_)"
   ]
  },
  {
   "cell_type": "markdown",
   "metadata": {},
   "source": [
    "### Plotting decision boundaries"
   ]
  },
  {
   "cell_type": "code",
   "execution_count": 7,
   "metadata": {},
   "outputs": [
    {
     "data": {
      "image/png": "[encoded data removed]",
      "text/plain": [
       "<Figure size 792x288 with 1 Axes>"
      ]
     },
     "metadata": {
      "needs_background": "light"
     },
     "output_type": "display_data"
    }
   ],
   "source": [
    "# Compute the slope and bias of each decision boundary\n",
    "w_lin = -linear_svc_clf.coef_[0, 0]/linear_svc_clf.coef_[0, 1]\n",
    "b_lin = -linear_svc_clf.intercept_[0]/linear_svc_clf.coef_[0, 1]\n",
    "w_svc = -svc_clf.coef_[0, 0]/svc_clf.coef_[0, 1]\n",
    "b_svc = -svc_clf.intercept_[0]/svc_clf.coef_[0, 1]\n",
    "w_sgd= -sgd_clf.coef_[0, 0]/sgd_clf.coef_[0, 1]\n",
    "b_sgd = -sgd_clf.intercept_[0]/sgd_clf.coef_[0, 1]\n",
    "\n",
    "# Transform the decision boundary lines back to the original scale\n",
    "line_lin = scaler.inverse_transform([[-10, -10 * w_lin + b_lin], [10, 10 * w_lin + b_lin]])\n",
    "line_svc = scaler.inverse_transform([[-10, -10 * w_svc + b_svc], [10, 10 * w_svc + b_svc]])\n",
    "line_sgd = scaler.inverse_transform([[-10, -10 * w_sgd + b_sgd], [10, 10 * w_sgd + b_sgd]])\n",
    "\n",
    "plt.figure(figsize=(11, 4))\n",
    "plt.plot(line_lin[:, 0], line_lin[:, 1], \"k:\", label=\"LinearSVC\")\n",
    "plt.plot(line_svc[:, 0], line_svc[:, 1], \"b--\", linewidth=2, label=\"SVC\")\n",
    "plt.plot(line_sgd[:, 0], line_sgd[:, 1], \"r-\", label=\"SGDClassifier\")\n",
    "plt.plot(X[:, 0][y==1], X[:, 1][y==1], \"bs\") # label=\"Iris versicolor\"\n",
    "plt.plot(X[:, 0][y==0], X[:, 1][y==0], \"yo\") # label=\"Iris setosa\"\n",
    "plt.xlabel(\"Petal Length\", fontsize=10)\n",
    "plt.ylabel(\"Petal Width\", fontsize=10)\n",
    "plt.legend(loc=\"lower right\", fontsize=10)\n",
    "plt.axis([0, 5.5, 0, 2])\n",
    "\n",
    "plt.show()"
   ]
  },
  {
   "cell_type": "markdown",
   "metadata": {},
   "source": [
    "## 9) Train an SVM classifier on the MNIST dataset. Since SVM classifiers are binary classifiers, you will need to use one-versus-all to classify all 10 digits. You may want to tune the hyperparameters using small validation sets to speed up the process. What accuracy can you reach?"
   ]
  },
  {
   "cell_type": "markdown",
   "metadata": {},
   "source": [
    "### Data Prep"
   ]
  },
  {
   "cell_type": "code",
   "execution_count": 8,
   "metadata": {},
   "outputs": [],
   "source": [
    "# Loading MNIST\n",
    "mnist = datasets.fetch_openml('mnist_784', version=1)\n",
    "X = mnist[\"data\"]\n",
    "y = mnist[\"target\"]\n",
    "\n",
    "# Data is already splitted into training and test sets and shuffled\n",
    "X_train, X_test = X[:60000], X[60000:]\n",
    "y_train, y_test = y[:60000], y[60000:]"
   ]
  },
  {
   "cell_type": "code",
   "execution_count": 9,
   "metadata": {},
   "outputs": [],
   "source": [
    "# SVM classifier will automatically use the One-vs-All.\n",
    "# Scaling\n",
    "scaler = StandardScaler()\n",
    "X_train_scaled = scaler.fit_transform(X_train.astype(np.float32))\n",
    "X_test_scaled = scaler.transform(X_test.astype(np.float32))"
   ]
  },
  {
   "cell_type": "markdown",
   "metadata": {},
   "source": [
    "### LinearSVC"
   ]
  },
  {
   "cell_type": "code",
   "execution_count": 10,
   "metadata": {},
   "outputs": [
    {
     "name": "stderr",
     "output_type": "stream",
     "text": [
      "C:\\Users\\esra\\Anaconda3\\lib\\site-packages\\sklearn\\svm\\base.py:929: ConvergenceWarning: Liblinear failed to converge, increase the number of iterations.\n",
      "  \"the number of iterations.\", ConvergenceWarning)\n"
     ]
    },
    {
     "data": {
      "text/plain": [
       "LinearSVC(C=1.0, class_weight=None, dual=True, fit_intercept=True,\n",
       "          intercept_scaling=1, loss='squared_hinge', max_iter=1000,\n",
       "          multi_class='ovr', penalty='l2', random_state=42, tol=0.0001,\n",
       "          verbose=0)"
      ]
     },
     "execution_count": 10,
     "metadata": {},
     "output_type": "execute_result"
    }
   ],
   "source": [
    "# Training LinearSVC\n",
    "lin_clf = LinearSVC(random_state=42)\n",
    "lin_clf.fit(X_train_scaled, y_train)"
   ]
  },
  {
   "cell_type": "code",
   "execution_count": 11,
   "metadata": {},
   "outputs": [
    {
     "data": {
      "text/plain": [
       "0.9218166666666666"
      ]
     },
     "execution_count": 11,
     "metadata": {},
     "output_type": "execute_result"
    }
   ],
   "source": [
    "# Predict and evaluate on training set\n",
    "y_pred = lin_clf.predict(X_train_scaled)\n",
    "accuracy_score(y_train, y_pred)"
   ]
  },
  {
   "cell_type": "markdown",
   "metadata": {},
   "source": [
    "### SVC"
   ]
  },
  {
   "cell_type": "code",
   "execution_count": 12,
   "metadata": {},
   "outputs": [
    {
     "data": {
      "text/plain": [
       "SVC(C=1.0, cache_size=200, class_weight=None, coef0=0.0,\n",
       "    decision_function_shape='ovr', degree=3, gamma='scale', kernel='rbf',\n",
       "    max_iter=-1, probability=False, random_state=None, shrinking=True,\n",
       "    tol=0.001, verbose=False)"
      ]
     },
     "execution_count": 12,
     "metadata": {},
     "output_type": "execute_result"
    }
   ],
   "source": [
    "svm_clf = SVC(gamma=\"scale\")\n",
    "svm_clf.fit(X_train_scaled, y_train) "
   ]
  },
  {
   "cell_type": "code",
   "execution_count": 13,
   "metadata": {},
   "outputs": [
    {
     "data": {
      "text/plain": [
       "0.9866333333333334"
      ]
     },
     "execution_count": 13,
     "metadata": {},
     "output_type": "execute_result"
    }
   ],
   "source": [
    "# Predict and evaluate on training set\n",
    "y_pred = svm_clf.predict(X_train_scaled)\n",
    "accuracy_score(y_train, y_pred)"
   ]
  },
  {
   "cell_type": "markdown",
   "metadata": {},
   "source": [
    "### Hyperparameter tuning"
   ]
  },
  {
   "cell_type": "code",
   "execution_count": 15,
   "metadata": {},
   "outputs": [
    {
     "name": "stdout",
     "output_type": "stream",
     "text": [
      "Fitting 3 folds for each of 10 candidates, totalling 30 fits\n"
     ]
    },
    {
     "name": "stderr",
     "output_type": "stream",
     "text": [
      "[Parallel(n_jobs=1)]: Using backend SequentialBackend with 1 concurrent workers.\n"
     ]
    },
    {
     "name": "stdout",
     "output_type": "stream",
     "text": [
      "[CV] C=7.540121673030702, gamma=0.049397861486246274 .................\n",
      "[CV] . C=7.540121673030702, gamma=0.049397861486246274, total=123.1min\n",
      "[CV] C=7.540121673030702, gamma=0.049397861486246274 .................\n"
     ]
    },
    {
     "name": "stderr",
     "output_type": "stream",
     "text": [
      "[Parallel(n_jobs=1)]: Done   1 out of   1 | elapsed: 123.1min remaining:    0.0s\n"
     ]
    },
    {
     "name": "stdout",
     "output_type": "stream",
     "text": [
      "[CV] . C=7.540121673030702, gamma=0.049397861486246274, total=121.4min\n",
      "[CV] C=7.540121673030702, gamma=0.049397861486246274 .................\n",
      "[CV] . C=7.540121673030702, gamma=0.049397861486246274, total=122.4min\n",
      "[CV] C=5.677304672860501, gamma=0.004134507926617371 .................\n",
      "[CV] .. C=5.677304672860501, gamma=0.004134507926617371, total=20.0min\n",
      "[CV] C=5.677304672860501, gamma=0.004134507926617371 .................\n",
      "[CV] .. C=5.677304672860501, gamma=0.004134507926617371, total=20.0min\n",
      "[CV] C=5.677304672860501, gamma=0.004134507926617371 .................\n",
      "[CV] .. C=5.677304672860501, gamma=0.004134507926617371, total=19.7min\n",
      "[CV] C=8.594997867690171, gamma=0.001564950554585664 .................\n",
      "[CV] .. C=8.594997867690171, gamma=0.001564950554585664, total=10.2min\n",
      "[CV] C=8.594997867690171, gamma=0.001564950554585664 .................\n",
      "[CV] .. C=8.594997867690171, gamma=0.001564950554585664, total=10.2min\n",
      "[CV] C=8.594997867690171, gamma=0.001564950554585664 .................\n",
      "[CV] .. C=8.594997867690171, gamma=0.001564950554585664, total=10.2min\n",
      "[CV] C=4.950510387520146, gamma=0.0011632161871004646 ................\n",
      "[CV] . C=4.950510387520146, gamma=0.0011632161871004646, total= 8.9min\n",
      "[CV] C=4.950510387520146, gamma=0.0011632161871004646 ................\n",
      "[CV] . C=4.950510387520146, gamma=0.0011632161871004646, total= 8.9min\n",
      "[CV] C=4.950510387520146, gamma=0.0011632161871004646 ................\n",
      "[CV] . C=4.950510387520146, gamma=0.0011632161871004646, total= 8.8min\n",
      "[CV] C=4.583734439516207, gamma=0.005409120350229564 .................\n",
      "[CV] .. C=4.583734439516207, gamma=0.005409120350229564, total=24.8min\n",
      "[CV] C=4.583734439516207, gamma=0.005409120350229564 .................\n",
      "[CV] .. C=4.583734439516207, gamma=0.005409120350229564, total=24.8min\n",
      "[CV] C=4.583734439516207, gamma=0.005409120350229564 .................\n",
      "[CV] .. C=4.583734439516207, gamma=0.005409120350229564, total=25.0min\n",
      "[CV] C=6.387489792447736, gamma=0.0017727883811668105 ................\n",
      "[CV] . C=6.387489792447736, gamma=0.0017727883811668105, total=11.1min\n",
      "[CV] C=6.387489792447736, gamma=0.0017727883811668105 ................\n",
      "[CV] . C=6.387489792447736, gamma=0.0017727883811668105, total=11.2min\n",
      "[CV] C=6.387489792447736, gamma=0.0017727883811668105 ................\n",
      "[CV] . C=6.387489792447736, gamma=0.0017727883811668105, total=10.9min\n",
      "[CV] C=2.090175625346151, gamma=0.007203568953650677 .................\n",
      "[CV] .. C=2.090175625346151, gamma=0.007203568953650677, total=34.4min\n",
      "[CV] C=2.090175625346151, gamma=0.007203568953650677 .................\n",
      "[CV] .. C=2.090175625346151, gamma=0.007203568953650677, total=33.7min\n",
      "[CV] C=2.090175625346151, gamma=0.007203568953650677 .................\n",
      "[CV] .. C=2.090175625346151, gamma=0.007203568953650677, total=34.2min\n",
      "[CV] C=10.910720127778918, gamma=0.04443984644260235 .................\n",
      "[CV] . C=10.910720127778918, gamma=0.04443984644260235, total=116.7min\n",
      "[CV] C=10.910720127778918, gamma=0.04443984644260235 .................\n",
      "[CV] . C=10.910720127778918, gamma=0.04443984644260235, total=117.2min\n",
      "[CV] C=10.910720127778918, gamma=0.04443984644260235 .................\n",
      "[CV] . C=10.910720127778918, gamma=0.04443984644260235, total=117.3min\n",
      "[CV] C=9.5185262615483, gamma=0.054430515061399065 ...................\n",
      "[CV] ... C=9.5185262615483, gamma=0.054430515061399065, total=124.6min\n",
      "[CV] C=9.5185262615483, gamma=0.054430515061399065 ...................\n",
      "[CV] ... C=9.5185262615483, gamma=0.054430515061399065, total=125.4min\n",
      "[CV] C=9.5185262615483, gamma=0.054430515061399065 ...................\n",
      "[CV] ... C=9.5185262615483, gamma=0.054430515061399065, total=126.4min\n",
      "[CV] C=9.187988141200961, gamma=0.04932206542320051 ..................\n",
      "[CV] .. C=9.187988141200961, gamma=0.04932206542320051, total=123.3min\n",
      "[CV] C=9.187988141200961, gamma=0.04932206542320051 ..................\n",
      "[CV] .. C=9.187988141200961, gamma=0.04932206542320051, total=121.5min\n",
      "[CV] C=9.187988141200961, gamma=0.04932206542320051 ..................\n",
      "[CV] .. C=9.187988141200961, gamma=0.04932206542320051, total=122.6min\n"
     ]
    },
    {
     "name": "stderr",
     "output_type": "stream",
     "text": [
      "[Parallel(n_jobs=1)]: Done  30 out of  30 | elapsed: 1789.1min finished\n"
     ]
    },
    {
     "data": {
      "text/plain": [
       "RandomizedSearchCV(cv=3, error_score='raise-deprecating',\n",
       "                   estimator=SVC(C=1.0, cache_size=200, class_weight=None,\n",
       "                                 coef0=0.0, decision_function_shape='ovr',\n",
       "                                 degree=3, gamma='scale', kernel='rbf',\n",
       "                                 max_iter=-1, probability=False,\n",
       "                                 random_state=None, shrinking=True, tol=0.001,\n",
       "                                 verbose=False),\n",
       "                   iid='warn', n_iter=10, n_jobs=None,\n",
       "                   param_distributions={'C': <scipy.stats._distn_infrastructure.rv_frozen object at 0x000001E9CED50A08>,\n",
       "                                        'gamma': <scipy.stats._distn_infrastructure.rv_frozen object at 0x000001E9CED508C8>},\n",
       "                   pre_dispatch='2*n_jobs', random_state=None, refit=True,\n",
       "                   return_train_score=False, scoring=None, verbose=2)"
      ]
     },
     "execution_count": 15,
     "metadata": {},
     "output_type": "execute_result"
    }
   ],
   "source": [
    "# Randomized Search CV \n",
    "param_distribs = {\"C\": uniform(1,10), \"gamma\": reciprocal(0.001, 0.1)}\n",
    "\n",
    "random_search = RandomizedSearchCV(svm_clf, param_distribs, n_iter=10, verbose=2,cv=3)\n",
    "random_search.fit(X_train_scaled, y_train)"
   ]
  },
  {
   "cell_type": "code",
   "execution_count": 16,
   "metadata": {},
   "outputs": [
    {
     "data": {
      "text/plain": [
       "0.9994"
      ]
     },
     "execution_count": 16,
     "metadata": {},
     "output_type": "execute_result"
    }
   ],
   "source": [
    "best_model = random_search.best_estimator_\n",
    "# Predict and evaluate on training set\n",
    "y_pred = best_model.predict(X_train_scaled)\n",
    "accuracy_score(y_train, y_pred)"
   ]
  },
  {
   "cell_type": "code",
   "execution_count": 17,
   "metadata": {},
   "outputs": [
    {
     "data": {
      "text/plain": [
       "0.9723"
      ]
     },
     "execution_count": 17,
     "metadata": {},
     "output_type": "execute_result"
    }
   ],
   "source": [
    "# Predict and evaluate on test set\n",
    "y_pred = best_model.predict(X_test_scaled)\n",
    "accuracy_score(y_test, y_pred)"
   ]
  }
 ],
 "metadata": {
  "kernelspec": {
   "display_name": "Python 3",
   "language": "python",
   "name": "python3"
  },
  "language_info": {
   "codemirror_mode": {
    "name": "ipython",
    "version": 3
   },
   "file_extension": ".py",
   "mimetype": "text/x-python",
   "name": "python",
   "nbconvert_exporter": "python",
   "pygments_lexer": "ipython3",
   "version": "3.7.4"
  }
 },
 "nbformat": 4,
 "nbformat_minor": 2
}
